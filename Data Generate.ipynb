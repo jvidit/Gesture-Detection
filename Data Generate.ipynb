{
 "cells": [
  {
   "cell_type": "code",
   "execution_count": 7,
   "metadata": {},
   "outputs": [],
   "source": [
    "import cv2\n",
    "import numpy as np\n",
    "import time\n",
    "import csv"
   ]
  },
  {
   "cell_type": "markdown",
   "metadata": {},
   "source": [
    "location 0 - Library room\n",
    "\n",
    "location 1 - SC07 background subtracted\n",
    "\n",
    "location 2 - SC07 white"
   ]
  },
  {
   "cell_type": "code",
   "execution_count": 8,
   "metadata": {},
   "outputs": [],
   "source": [
    "CannyLow = 5\n",
    "CannyHigh = 30"
   ]
  },
  {
   "cell_type": "code",
   "execution_count": 15,
   "metadata": {},
   "outputs": [],
   "source": [
    "def rgbEqualize(img):\n",
    "    img_yuv = cv2.cvtColor(img, cv2.COLOR_BGR2YUV)\n",
    "\n",
    "    # equalize the histogram of the Y channel\n",
    "    img_yuv[:,:,0] = cv2.equalizeHist(img_yuv[:,:,0])\n",
    "\n",
    "    # convert the YUV image back to RGB format\n",
    "    img_output = cv2.cvtColor(img_yuv, cv2.COLOR_YUV2BGR)\n",
    "    \n",
    "    return img_output\n",
    "    \n"
   ]
  },
  {
   "cell_type": "code",
   "execution_count": 41,
   "metadata": {},
   "outputs": [
    {
     "name": "stdout",
     "output_type": "stream",
     "text": [
      "Video dimensions are: 1280 x 720 \n"
     ]
    }
   ],
   "source": [
    "vid = cv2.VideoCapture(0)\n",
    "\n",
    "\n",
    "print(\"Video dimensions are: %d x %d \" %(int(vid.get(3)), int(vid.get(4))))\n",
    "\n",
    "\n",
    "label = 0\n",
    "location = 2\n",
    "dsType = \"train/\" if not True else \"test/\"\n",
    "\n",
    "\n",
    "kernel_size = (51,51)\n",
    "GaussianSigma = 41\n",
    "writeOn = True\n",
    "\n",
    "path = './data/'+dsType+str(label)+\"-\"+str(location)+'.csv'"
   ]
  },
  {
   "cell_type": "code",
   "execution_count": 42,
   "metadata": {},
   "outputs": [],
   "source": [
    "backSubMOG = cv2.bgsegm.createBackgroundSubtractorMOG(history=1)\n",
    "\n",
    "input_data = []"
   ]
  },
  {
   "cell_type": "code",
   "execution_count": 43,
   "metadata": {
    "scrolled": true
   },
   "outputs": [
    {
     "data": {
      "text/plain": [
       "-1"
      ]
     },
     "execution_count": 43,
     "metadata": {},
     "output_type": "execute_result"
    }
   ],
   "source": [
    "frame_width=1920\n",
    "frame_height=1080\n",
    "\n",
    "\n",
    "while True:\n",
    "    ret, frame = vid.read()\n",
    "    if ret==True:\n",
    "        \n",
    "        \n",
    "#         gray = cv2.cvtColor(frame, cv2.COLOR_BGR2GRAY)\n",
    "       \n",
    "#         cv2.imshow('MOG', edges)\n",
    "\n",
    "\n",
    "#         cv2.imshow('MOG', subbedFrameMOG)\n",
    "\n",
    "        frame = rgbEqualize(frame)\n",
    "        \n",
    "#         subbedFrameMOG = backSubMOG.apply(frame)\n",
    "#         edges = cv2.Canny(subbedFrameMOG, CannyLow, CannyHigh)\n",
    "\n",
    "\n",
    "#         frame = edges\n",
    "\n",
    "    \n",
    "        blur_frame = cv2.GaussianBlur(frame, kernel_size, GaussianSigma)\n",
    "        blur_frame = cv2.resize(blur_frame, (50,50), interpolation = cv2.INTER_AREA)\n",
    "\n",
    "        \n",
    "        \n",
    "#         blur_frame = edges\n",
    "        \n",
    "        blur_displayFrame = cv2.resize(blur_frame, (600,600), interpolation = cv2.INTER_AREA)\n",
    "        blur_displayFrame = blur_displayFrame[:, ::-1]\n",
    "        \n",
    "        \n",
    "        \n",
    "        \n",
    "        cv2.imshow('original_blur', blur_displayFrame)\n",
    "\n",
    "\n",
    "        input_data.append([label]+blur_frame.flatten().tolist())\n",
    "\n",
    " \n",
    "\n",
    "        if cv2.waitKey(1) & 0xFF == ord('q'):\n",
    "            break\n",
    "    else:\n",
    "        break\n",
    "        \n",
    "vid.release()\n",
    "cv2.destroyAllWindows()\n",
    "cv2.waitKey(1)\n",
    "\n",
    "\n",
    "\n",
    "\n",
    "\n",
    "\n"
   ]
  },
  {
   "cell_type": "code",
   "execution_count": 44,
   "metadata": {},
   "outputs": [
    {
     "name": "stdout",
     "output_type": "stream",
     "text": [
      "444\n"
     ]
    }
   ],
   "source": [
    "# writes input data to file\n",
    "\n",
    "\n",
    "print(len(input_data))\n",
    "\n",
    "\n",
    "with open(path, 'a') as writeFile:\n",
    "    writer = csv.writer(writeFile)\n",
    "    if writeOn:\n",
    "        writer.writerows(input_data)\n",
    "\n",
    "writeFile.close()\n",
    "\n",
    "\n"
   ]
  },
  {
   "cell_type": "code",
   "execution_count": 45,
   "metadata": {},
   "outputs": [],
   "source": [
    "# print(input_data[5])"
   ]
  },
  {
   "cell_type": "code",
   "execution_count": 46,
   "metadata": {},
   "outputs": [],
   "source": [
    "train_path = './data/train/'\n",
    "test_path = './data/test/'\n",
    "\n",
    "\n",
    "nlocations = 3\n",
    "\n",
    "train_data = []\n",
    "test_data = []\n",
    "\n",
    "\n",
    "\n",
    "for label_class in range(4):\n",
    "    for location in range(2,nlocations):\n",
    "        with open(train_path+str(label_class)+'-'+str(location)+'.csv' , 'rt') as readFile:\n",
    "            reader = csv.reader(readFile)\n",
    "            for row in reader:\n",
    "                train_data.append(row)\n",
    "        readFile.close()\n",
    "\n",
    "        with open(test_path+str(label_class)+'-'+str(location)+'.csv' , 'rt') as readFile:\n",
    "            reader = csv.reader(readFile)\n",
    "            for row in reader:\n",
    "                test_data.append(row)\n",
    "        readFile.close()\n",
    "    \n",
    "\n",
    "        \n",
    "\n",
    "with open(train_path+'train.csv', 'w') as writeFile:\n",
    "    writer = csv.writer(writeFile)\n",
    "    if writeOn:\n",
    "        writer.writerows(train_data)\n",
    "\n",
    "writeFile.close()\n",
    "\n",
    "with open(test_path+'test.csv', 'w') as writeFile:\n",
    "    writer = csv.writer(writeFile)\n",
    "    if writeOn:\n",
    "        writer.writerows(test_data)\n",
    "\n",
    "writeFile.close()"
   ]
  },
  {
   "cell_type": "code",
   "execution_count": null,
   "metadata": {},
   "outputs": [],
   "source": []
  },
  {
   "cell_type": "code",
   "execution_count": null,
   "metadata": {},
   "outputs": [],
   "source": []
  },
  {
   "cell_type": "code",
   "execution_count": null,
   "metadata": {},
   "outputs": [],
   "source": []
  },
  {
   "cell_type": "code",
   "execution_count": null,
   "metadata": {},
   "outputs": [],
   "source": [
    "\n",
    "\n",
    "\n"
   ]
  }
 ],
 "metadata": {
  "kernelspec": {
   "display_name": "Python 3",
   "language": "python",
   "name": "python3"
  },
  "language_info": {
   "codemirror_mode": {
    "name": "ipython",
    "version": 3
   },
   "file_extension": ".py",
   "mimetype": "text/x-python",
   "name": "python",
   "nbconvert_exporter": "python",
   "pygments_lexer": "ipython3",
   "version": "3.7.4"
  }
 },
 "nbformat": 4,
 "nbformat_minor": 2
}
