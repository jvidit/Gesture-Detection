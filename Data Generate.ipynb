{
 "cells": [
  {
   "cell_type": "code",
   "execution_count": 8,
   "metadata": {},
   "outputs": [],
   "source": [
    "import cv2\n",
    "import numpy as np\n",
    "import time\n",
    "import csv"
   ]
  },
  {
   "cell_type": "code",
   "execution_count": 41,
   "metadata": {},
   "outputs": [
    {
     "name": "stdout",
     "output_type": "stream",
     "text": [
      "Video dimensions are: 1280 x 720 \n"
     ]
    }
   ],
   "source": [
    "vid = cv2.VideoCapture(0)\n",
    "\n",
    "\n",
    "print(\"Video dimensions are: %d x %d \" %(int(vid.get(3)), int(vid.get(4))))\n",
    "\n",
    "\n",
    "label = 3\n",
    "writeOn = not False\n",
    "\n",
    "path = './data/'+str(label)+'.csv'"
   ]
  },
  {
   "cell_type": "code",
   "execution_count": 42,
   "metadata": {},
   "outputs": [],
   "source": [
    "backSubMOG = cv2.bgsegm.createBackgroundSubtractorMOG()\n",
    "\n",
    "input_data = []"
   ]
  },
  {
   "cell_type": "code",
   "execution_count": 43,
   "metadata": {
    "scrolled": true
   },
   "outputs": [
    {
     "data": {
      "text/plain": [
       "-1"
      ]
     },
     "execution_count": 43,
     "metadata": {},
     "output_type": "execute_result"
    }
   ],
   "source": [
    "frame_width=1920\n",
    "frame_height=1080\n",
    "\n",
    "\n",
    "while True:\n",
    "    ret, frame = vid.read()\n",
    "    if ret==True:\n",
    "        gray = cv2.cvtColor(frame, cv2.COLOR_BGR2GRAY)\n",
    "        subbedFrameMOG = backSubMOG.apply(frame)\n",
    "        \n",
    "        \n",
    "#         cv2.imshow('MOG', subbedFrameMOG)\n",
    "\n",
    "\n",
    "        frame = cv2.resize(gray, (50,50), interpolation = cv2.INTER_AREA)\n",
    "    \n",
    "        displayFrame = cv2.resize(frame, (600,600), interpolation = cv2.INTER_AREA)\n",
    "        displayFrame = displayFrame[:, ::-1]\n",
    "        cv2.imshow('original', displayFrame)\n",
    "\n",
    "\n",
    "        input_data.append([label]+frame.flatten().tolist())\n",
    "\n",
    " \n",
    "\n",
    "        if cv2.waitKey(1) & 0xFF == ord('q'):\n",
    "            break\n",
    "    else:\n",
    "        break\n",
    "        \n",
    "vid.release()\n",
    "cv2.destroyAllWindows()\n",
    "cv2.waitKey(1)\n",
    "\n",
    "\n",
    "\n",
    "\n",
    "\n",
    "\n"
   ]
  },
  {
   "cell_type": "code",
   "execution_count": 44,
   "metadata": {},
   "outputs": [
    {
     "name": "stdout",
     "output_type": "stream",
     "text": [
      "522\n"
     ]
    }
   ],
   "source": [
    "print(len(input_data))\n",
    "\n",
    "\n",
    "with open(path, 'a') as writeFile:\n",
    "    writer = csv.writer(writeFile)\n",
    "    if writeOn:\n",
    "        writer.writerows(input_data)\n",
    "\n",
    "writeFile.close()\n",
    "\n",
    "\n"
   ]
  },
  {
   "cell_type": "code",
   "execution_count": null,
   "metadata": {},
   "outputs": [],
   "source": []
  },
  {
   "cell_type": "code",
   "execution_count": 48,
   "metadata": {},
   "outputs": [],
   "source": [
    "train_path = './data/train.csv'\n",
    "test_path = './data/test.csv'\n",
    "\n",
    "\n",
    "\n",
    "\n",
    "train_data = []\n",
    "test_data = []\n",
    "\n",
    "\n",
    "\n",
    "for i in range(4):\n",
    "    with open('./data/'+str(i)+'.csv' , 'rt') as readFile:\n",
    "        reader = csv.reader(readFile)\n",
    "        count = 0\n",
    "        for row in reader:\n",
    "            count+=1;\n",
    "            if(count%5!=0):\n",
    "                train_data.append(row)\n",
    "            else:\n",
    "                test_data.append(row)\n",
    "            if(count>=500):\n",
    "                break\n",
    "            \n",
    "    readFile.close()\n",
    "        \n",
    "        \n",
    "\n",
    "        \n",
    "\n",
    "with open(train_path, 'a') as writeFile:\n",
    "    writer = csv.writer(writeFile)\n",
    "    if writeOn:\n",
    "        writer.writerows(train_data)\n",
    "\n",
    "writeFile.close()\n",
    "\n",
    "with open(test_path, 'a') as writeFile:\n",
    "    writer = csv.writer(writeFile)\n",
    "    if writeOn:\n",
    "        writer.writerows(test_data)\n",
    "\n",
    "writeFile.close()"
   ]
  },
  {
   "cell_type": "code",
   "execution_count": null,
   "metadata": {},
   "outputs": [],
   "source": []
  },
  {
   "cell_type": "code",
   "execution_count": null,
   "metadata": {},
   "outputs": [],
   "source": []
  },
  {
   "cell_type": "code",
   "execution_count": null,
   "metadata": {},
   "outputs": [],
   "source": []
  },
  {
   "cell_type": "code",
   "execution_count": null,
   "metadata": {},
   "outputs": [],
   "source": [
    "\n",
    "\n",
    "\n"
   ]
  }
 ],
 "metadata": {
  "kernelspec": {
   "display_name": "Python 3",
   "language": "python",
   "name": "python3"
  },
  "language_info": {
   "codemirror_mode": {
    "name": "ipython",
    "version": 3
   },
   "file_extension": ".py",
   "mimetype": "text/x-python",
   "name": "python",
   "nbconvert_exporter": "python",
   "pygments_lexer": "ipython3",
   "version": "3.7.4"
  }
 },
 "nbformat": 4,
 "nbformat_minor": 2
}
